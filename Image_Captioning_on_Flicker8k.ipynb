{
  "nbformat": 4,
  "nbformat_minor": 0,
  "metadata": {
    "colab": {
      "name": "Image_Captioning_on_Flicker8k.ipynb",
      "provenance": [],
      "collapsed_sections": []
    },
    "kernelspec": {
      "name": "python3",
      "display_name": "Python 3"
    },
    "accelerator": "GPU"
  },
  "cells": [
    {
      "cell_type": "code",
      "metadata": {
        "id": "xXcp0V7cabWX"
      },
      "source": [
        "from os import listdir\n",
        "from pickle import dump\n",
        "from tensorflow.keras.applications.vgg16 import VGG16\n",
        "from tensorflow.keras.preprocessing.image import load_img\n",
        "from tensorflow.keras.preprocessing.image import img_to_array\n",
        "from tensorflow.keras.applications.vgg16 import preprocess_input\n",
        "from tensorflow.keras.models import Model\n",
        "from numpy import argmax\n",
        "import tensorflow as tf"
      ],
      "execution_count": 8,
      "outputs": []
    },
    {
      "cell_type": "code",
      "metadata": {
        "id": "SMaqmyQAh7IS",
        "colab": {
          "base_uri": "https://localhost:8080/"
        },
        "outputId": "1a3712ac-6d12-454c-c033-4c474b1f048b"
      },
      "source": [
        "from google.colab import drive\n",
        "drive.mount('/content/drive', force_remount=True)"
      ],
      "execution_count": 9,
      "outputs": [
        {
          "output_type": "stream",
          "text": [
            "Mounted at /content/drive\n"
          ],
          "name": "stdout"
        }
      ]
    },
    {
      "cell_type": "code",
      "metadata": {
        "id": "Jrt1un6mh9_z",
        "colab": {
          "base_uri": "https://localhost:8080/"
        },
        "outputId": "ae14cdc8-7a12-4ce8-d7d0-a590625498a7"
      },
      "source": [
        "tf.test.is_gpu_available(\n",
        "    cuda_only=False,\n",
        "    min_cuda_compute_capability=None\n",
        ")"
      ],
      "execution_count": 10,
      "outputs": [
        {
          "output_type": "execute_result",
          "data": {
            "text/plain": [
              "True"
            ]
          },
          "metadata": {
            "tags": []
          },
          "execution_count": 10
        }
      ]
    },
    {
      "cell_type": "code",
      "metadata": {
        "id": "fG91S115iAB_",
        "colab": {
          "base_uri": "https://localhost:8080/",
          "height": 35
        },
        "outputId": "a3255251-1224-42be-86f0-d8cf297d55d0"
      },
      "source": [
        "tf.test.gpu_device_name()"
      ],
      "execution_count": 11,
      "outputs": [
        {
          "output_type": "execute_result",
          "data": {
            "application/vnd.google.colaboratory.intrinsic+json": {
              "type": "string"
            },
            "text/plain": [
              "'/device:GPU:0'"
            ]
          },
          "metadata": {
            "tags": []
          },
          "execution_count": 11
        }
      ]
    },
    {
      "cell_type": "code",
      "metadata": {
        "id": "vcG8P5cUkvol",
        "colab": {
          "base_uri": "https://localhost:8080/"
        },
        "outputId": "01052cfd-c190-4f7b-8879-ba2505ebf43e"
      },
      "source": [
        "def extract_features(directory):\n",
        "  # load the model\n",
        "  model = VGG16()\n",
        "  # re-structure the model\n",
        "  model.layers.pop()\n",
        "  model = Model(inputs=model.inputs, outputs=model.layers[-2].output)\n",
        "  # summarize\n",
        "  print(model.summary())\n",
        "  # extract features from each photo\n",
        "  features = dict()\n",
        "  for name in listdir(directory):\n",
        "    # load an image from file\n",
        "    filename = directory + '/' + name\n",
        "    image = load_img(filename, target_size=(224, 224))\n",
        "    # convert the image pixels to a numpy array\n",
        "    image = img_to_array(image)\n",
        "    # reshape data for the model\n",
        "    image = image.reshape((1, image.shape[0], image.shape[1], image.shape[2]))\n",
        "    # prepare the image for the VGG model\n",
        "    image = preprocess_input(image)\n",
        "    # get features\n",
        "    feature = model.predict(image, verbose=0)\n",
        "    # get image id\n",
        "    image_id = name.split('.')[0]\n",
        "    # store feature\n",
        "    features[image_id] = feature\n",
        "    print('>%s' % name)\n",
        "  return features\n",
        "\n",
        " \n",
        "# extract features from all images\n",
        "directory = 'drive/My Drive/IC/Flicker8k_Dataset_Small'\n",
        "features = extract_features(directory)\n",
        "print('Extracted Features : %d' % len(features))\n",
        "# save to file\n",
        "dump(features, open('drive/My Drive/IC/features.pkl', 'wb'))"
      ],
      "execution_count": 12,
      "outputs": [
        {
          "output_type": "stream",
          "text": [
            "Downloading data from https://storage.googleapis.com/tensorflow/keras-applications/vgg16/vgg16_weights_tf_dim_ordering_tf_kernels.h5\n",
            "553467904/553467096 [==============================] - 3s 0us/step\n",
            "Model: \"model\"\n",
            "_________________________________________________________________\n",
            "Layer (type)                 Output Shape              Param #   \n",
            "=================================================================\n",
            "input_1 (InputLayer)         [(None, 224, 224, 3)]     0         \n",
            "_________________________________________________________________\n",
            "block1_conv1 (Conv2D)        (None, 224, 224, 64)      1792      \n",
            "_________________________________________________________________\n",
            "block1_conv2 (Conv2D)        (None, 224, 224, 64)      36928     \n",
            "_________________________________________________________________\n",
            "block1_pool (MaxPooling2D)   (None, 112, 112, 64)      0         \n",
            "_________________________________________________________________\n",
            "block2_conv1 (Conv2D)        (None, 112, 112, 128)     73856     \n",
            "_________________________________________________________________\n",
            "block2_conv2 (Conv2D)        (None, 112, 112, 128)     147584    \n",
            "_________________________________________________________________\n",
            "block2_pool (MaxPooling2D)   (None, 56, 56, 128)       0         \n",
            "_________________________________________________________________\n",
            "block3_conv1 (Conv2D)        (None, 56, 56, 256)       295168    \n",
            "_________________________________________________________________\n",
            "block3_conv2 (Conv2D)        (None, 56, 56, 256)       590080    \n",
            "_________________________________________________________________\n",
            "block3_conv3 (Conv2D)        (None, 56, 56, 256)       590080    \n",
            "_________________________________________________________________\n",
            "block3_pool (MaxPooling2D)   (None, 28, 28, 256)       0         \n",
            "_________________________________________________________________\n",
            "block4_conv1 (Conv2D)        (None, 28, 28, 512)       1180160   \n",
            "_________________________________________________________________\n",
            "block4_conv2 (Conv2D)        (None, 28, 28, 512)       2359808   \n",
            "_________________________________________________________________\n",
            "block4_conv3 (Conv2D)        (None, 28, 28, 512)       2359808   \n",
            "_________________________________________________________________\n",
            "block4_pool (MaxPooling2D)   (None, 14, 14, 512)       0         \n",
            "_________________________________________________________________\n",
            "block5_conv1 (Conv2D)        (None, 14, 14, 512)       2359808   \n",
            "_________________________________________________________________\n",
            "block5_conv2 (Conv2D)        (None, 14, 14, 512)       2359808   \n",
            "_________________________________________________________________\n",
            "block5_conv3 (Conv2D)        (None, 14, 14, 512)       2359808   \n",
            "_________________________________________________________________\n",
            "block5_pool (MaxPooling2D)   (None, 7, 7, 512)         0         \n",
            "_________________________________________________________________\n",
            "flatten (Flatten)            (None, 25088)             0         \n",
            "_________________________________________________________________\n",
            "fc1 (Dense)                  (None, 4096)              102764544 \n",
            "_________________________________________________________________\n",
            "fc2 (Dense)                  (None, 4096)              16781312  \n",
            "=================================================================\n",
            "Total params: 134,260,544\n",
            "Trainable params: 134,260,544\n",
            "Non-trainable params: 0\n",
            "_________________________________________________________________\n",
            "None\n",
            ">667626_18933d713e.jpg\n",
            ">33108590_d685bfe51c.jpg\n",
            ">3637013_c675de7705.jpg\n",
            ">12830823_87d2654e31.jpg\n",
            ">23445819_3a458716c1.jpg\n",
            ">10815824_2997e03d76.jpg\n",
            ">17273391_55cfc7d3d4.jpg\n",
            ">27782020_4dab210360.jpg\n",
            ">19212715_20476497a3.jpg\n",
            ">35506150_cbdb630f4f.jpg\n",
            "Extracted Features : 10\n"
          ],
          "name": "stdout"
        }
      ]
    },
    {
      "cell_type": "code",
      "metadata": {
        "id": "Tt6lmSN2uTXO",
        "colab": {
          "base_uri": "https://localhost:8080/"
        },
        "outputId": "4ef4e67a-bd95-4be1-83b1-5fe31b51440b"
      },
      "source": [
        "# Load data from text file\n",
        "def load_doc(filename):\n",
        "\t# open the file as read only\n",
        "  file = open(filename, 'r')\n",
        "\t# read all text\n",
        "  text = file.read()\n",
        "\t# close the file\n",
        "  file.close()\n",
        "  return text\n",
        "\n",
        "\n",
        "\n",
        "# load descriptions\n",
        "filename = '/content/drive/MyDrive/IC/Flicker8k_token_Small.txt'\n",
        "doc = load_doc(filename)\n",
        "print(doc)"
      ],
      "execution_count": 13,
      "outputs": [
        {
          "output_type": "stream",
          "text": [
            "﻿667626_18933d713e.jpg#0        A girl is stretched out in shallow water\n",
            "667626_18933d713e.jpg#1        A girl wearing a red and multi-colored bikini is laying on her back in shallow water .\n",
            "667626_18933d713e.jpg#2        A little girl in a red swimsuit is laying on her back in shallow water .\n",
            "667626_18933d713e.jpg#3        A young girl is lying in the sand , while ocean water is surrounding her .\n",
            "667626_18933d713e.jpg#4        Girl wearing a bikini lying on her back in a shallow pool of clear blue water .\n",
            "3637013_c675de7705.jpg#0        A couple stands close at the water 's edge .\n",
            "3637013_c675de7705.jpg#1        The two people stand by a body of water and in front of bushes in fall .\n",
            "3637013_c675de7705.jpg#2        Two people hold each other near a pond .\n",
            "3637013_c675de7705.jpg#3        Two people stand by the water .\n",
            "3637013_c675de7705.jpg#4        Two people stand together on the edge of the water on the grass .\n",
            "10815824_2997e03d76.jpg#0        A blonde horse and a blonde girl in a black sweatshirt are staring at a fire in a barrel .\n",
            "10815824_2997e03d76.jpg#1        A girl and her horse stand by a fire .\n",
            "10815824_2997e03d76.jpg#2        A girl holding a horse 's lead behind a fire .\n",
            "10815824_2997e03d76.jpg#3        A man , and girl and two horses are near a contained fire .\n",
            "10815824_2997e03d76.jpg#4        Two people and two horses watching a fire .\n",
            "12830823_87d2654e31.jpg#0        Children sit and watch the fish moving in the pond\n",
            "12830823_87d2654e31.jpg#1        people stare at the orange fish .\n",
            "12830823_87d2654e31.jpg#2        Several people are standing near a fish pond .\n",
            "12830823_87d2654e31.jpg#3        Some children watching fish in a pool .\n",
            "12830823_87d2654e31.jpg#4        There are several people and children looking into water with a blue tiled floor and goldfish .\n",
            "17273391_55cfc7d3d4.jpg#0        A fisherman fishes at the bank of a foggy river .\n",
            "17273391_55cfc7d3d4.jpg#1        A man fishes by a tree in the morning mist .\n",
            "17273391_55cfc7d3d4.jpg#2        A man fishes under a large tree .\n",
            "17273391_55cfc7d3d4.jpg#3        A man fishing near a large tree .\n",
            "17273391_55cfc7d3d4.jpg#4        A man is fishing in a foggy lake .\n",
            "19212715_20476497a3.jpg#0        a kayaker kayaks through the water .\n",
            "19212715_20476497a3.jpg#1        A person kayaking in the ocean .\n",
            "19212715_20476497a3.jpg#2        A person kayaks in the middle of the ocean on a grey day .\n",
            "19212715_20476497a3.jpg#3        A person rows a boat over a large body of water .\n",
            "19212715_20476497a3.jpg#4        person in a boat with a paddle in hand\n",
            "23445819_3a458716c1.jpg#0        a beagle and a golden retriever wrestling in the grass\n",
            "23445819_3a458716c1.jpg#1        Two dogs are wrestling in the grass .\n",
            "23445819_3a458716c1.jpg#2        Two puppies are playing in the green grass .\n",
            "23445819_3a458716c1.jpg#3        two puppies playing around in the grass\n",
            "23445819_3a458716c1.jpg#4        Two puppies play in the grass\n",
            "27782020_4dab210360.jpg#0        a brightly decorated bicycle with cart with people walking around in the background\n",
            "27782020_4dab210360.jpg#1        A street vending machine is parked while people walk by .\n",
            "27782020_4dab210360.jpg#2        A street vendor on the corner of a busy intersection .\n",
            "27782020_4dab210360.jpg#3        People on the city street walk past a puppet theater .\n",
            "27782020_4dab210360.jpg#4        People walk around a mobile puppet theater in a big city .\n",
            "33108590_d685bfe51c.jpg#0        A young couple inspect merchandise from a street vendor .\n",
            "33108590_d685bfe51c.jpg#1        People are gathering around a table of food and outside a taxi wisks by .\n",
            "33108590_d685bfe51c.jpg#2        Three people prepare a table full of food with a police car in the background .\n",
            "33108590_d685bfe51c.jpg#3        two people look at a street vendor .\n",
            "33108590_d685bfe51c.jpg#4        Two women and a man at a food counter in dim lights .\n",
            "35506150_cbdb630f4f.jpg#0        A man in a red jacket is sitting on a bench whilst cooking a meal .\n",
            "35506150_cbdb630f4f.jpg#1        A man is sitting on a bench , cooking some food .\n",
            "35506150_cbdb630f4f.jpg#2        A man sits on a bench .\n",
            "35506150_cbdb630f4f.jpg#3        A man wearing a red jacket is sitting on a wooden bench and is cooking something in a small pot .\n",
            "35506150_cbdb630f4f.jpg#4        a man wearing a red jacket sitting on a bench next to various camping items\n"
          ],
          "name": "stdout"
        }
      ]
    },
    {
      "cell_type": "code",
      "metadata": {
        "id": "SG7yAjhPP8k2",
        "colab": {
          "base_uri": "https://localhost:8080/"
        },
        "outputId": "76123208-ad0e-4104-b7e6-f23b7dd6ae33"
      },
      "source": [
        "# extract descriptions for images\n",
        "def load_descriptions(doc):\n",
        "  mapping = dict()\n",
        "  # process lines\n",
        "  for line in doc.split('\\n'):\n",
        "    # split line by white space\n",
        "    tokens = line.split()\n",
        "    if len(line) < 2:\n",
        "      continue\n",
        "    # take the first token as the image id, the rest as the description\n",
        "    image_id, image_desc = tokens[0], tokens[1:]\n",
        "    # remove filename from image id\n",
        "    image_id = image_id.split('.')[0]\n",
        "    # convert description tokens back to string\n",
        "    image_desc = ' '.join(image_desc)\n",
        "    # create the list if needed\n",
        "    if image_id not in mapping:\n",
        "      mapping[image_id] = list()\n",
        "    # store description\n",
        "    mapping[image_id].append(image_desc)\n",
        "  print(mapping)\n",
        "  return mapping\n",
        "\n",
        "# parse descriptions\n",
        "descriptions = load_descriptions(doc)\n",
        "print('Loaded: %d ' % len(descriptions))"
      ],
      "execution_count": 14,
      "outputs": [
        {
          "output_type": "stream",
          "text": [
            "{'\\ufeff667626_18933d713e': ['A girl is stretched out in shallow water'], '667626_18933d713e': ['A girl wearing a red and multi-colored bikini is laying on her back in shallow water .', 'A little girl in a red swimsuit is laying on her back in shallow water .', 'A young girl is lying in the sand , while ocean water is surrounding her .', 'Girl wearing a bikini lying on her back in a shallow pool of clear blue water .'], '3637013_c675de7705': [\"A couple stands close at the water 's edge .\", 'The two people stand by a body of water and in front of bushes in fall .', 'Two people hold each other near a pond .', 'Two people stand by the water .', 'Two people stand together on the edge of the water on the grass .'], '10815824_2997e03d76': ['A blonde horse and a blonde girl in a black sweatshirt are staring at a fire in a barrel .', 'A girl and her horse stand by a fire .', \"A girl holding a horse 's lead behind a fire .\", 'A man , and girl and two horses are near a contained fire .', 'Two people and two horses watching a fire .'], '12830823_87d2654e31': ['Children sit and watch the fish moving in the pond', 'people stare at the orange fish .', 'Several people are standing near a fish pond .', 'Some children watching fish in a pool .', 'There are several people and children looking into water with a blue tiled floor and goldfish .'], '17273391_55cfc7d3d4': ['A fisherman fishes at the bank of a foggy river .', 'A man fishes by a tree in the morning mist .', 'A man fishes under a large tree .', 'A man fishing near a large tree .', 'A man is fishing in a foggy lake .'], '19212715_20476497a3': ['a kayaker kayaks through the water .', 'A person kayaking in the ocean .', 'A person kayaks in the middle of the ocean on a grey day .', 'A person rows a boat over a large body of water .', 'person in a boat with a paddle in hand'], '23445819_3a458716c1': ['a beagle and a golden retriever wrestling in the grass', 'Two dogs are wrestling in the grass .', 'Two puppies are playing in the green grass .', 'two puppies playing around in the grass', 'Two puppies play in the grass'], '27782020_4dab210360': ['a brightly decorated bicycle with cart with people walking around in the background', 'A street vending machine is parked while people walk by .', 'A street vendor on the corner of a busy intersection .', 'People on the city street walk past a puppet theater .', 'People walk around a mobile puppet theater in a big city .'], '33108590_d685bfe51c': ['A young couple inspect merchandise from a street vendor .', 'People are gathering around a table of food and outside a taxi wisks by .', 'Three people prepare a table full of food with a police car in the background .', 'two people look at a street vendor .', 'Two women and a man at a food counter in dim lights .'], '35506150_cbdb630f4f': ['A man in a red jacket is sitting on a bench whilst cooking a meal .', 'A man is sitting on a bench , cooking some food .', 'A man sits on a bench .', 'A man wearing a red jacket is sitting on a wooden bench and is cooking something in a small pot .', 'a man wearing a red jacket sitting on a bench next to various camping items']}\n",
            "Loaded: 11 \n"
          ],
          "name": "stdout"
        }
      ]
    },
    {
      "cell_type": "code",
      "metadata": {
        "id": "Cf2BgI1oTIwu",
        "colab": {
          "base_uri": "https://localhost:8080/"
        },
        "outputId": "687ab16e-6f05-48a4-ff7d-df1b0c6f5773"
      },
      "source": [
        "import string\n",
        " \n",
        "def clean_descriptions(descriptions):\n",
        "  # prepare translation table for removing punctuation\n",
        "  table = str.maketrans('', '', string.punctuation)\n",
        "  for key, desc_list in descriptions.items():\n",
        "    for i in range(len(desc_list)):\n",
        "      desc = desc_list[i]\n",
        "      # tokenize\n",
        "      desc = desc.split()\n",
        "      # convert to lower case\n",
        "      desc = [word.lower() for word in desc]\n",
        "      # remove punctuation from each token\n",
        "      desc = [w.translate(table) for w in desc]\n",
        "      # remove hanging 's' and 'a'\n",
        "      desc = [word for word in desc if len(word)>1]\n",
        "      # remove tokens with numbers in them\n",
        "      desc = [word for word in desc if word.isalpha()]\n",
        "      # store as string\n",
        "      desc_list[i] =  ' '.join(desc)\n",
        " \n",
        "# clean descriptions\n",
        "clean_descriptions(descriptions)\n",
        "print(descriptions)"
      ],
      "execution_count": 15,
      "outputs": [
        {
          "output_type": "stream",
          "text": [
            "{'\\ufeff667626_18933d713e': ['girl is stretched out in shallow water'], '667626_18933d713e': ['girl wearing red and multicolored bikini is laying on her back in shallow water', 'little girl in red swimsuit is laying on her back in shallow water', 'young girl is lying in the sand while ocean water is surrounding her', 'girl wearing bikini lying on her back in shallow pool of clear blue water'], '3637013_c675de7705': ['couple stands close at the water edge', 'the two people stand by body of water and in front of bushes in fall', 'two people hold each other near pond', 'two people stand by the water', 'two people stand together on the edge of the water on the grass'], '10815824_2997e03d76': ['blonde horse and blonde girl in black sweatshirt are staring at fire in barrel', 'girl and her horse stand by fire', 'girl holding horse lead behind fire', 'man and girl and two horses are near contained fire', 'two people and two horses watching fire'], '12830823_87d2654e31': ['children sit and watch the fish moving in the pond', 'people stare at the orange fish', 'several people are standing near fish pond', 'some children watching fish in pool', 'there are several people and children looking into water with blue tiled floor and goldfish'], '17273391_55cfc7d3d4': ['fisherman fishes at the bank of foggy river', 'man fishes by tree in the morning mist', 'man fishes under large tree', 'man fishing near large tree', 'man is fishing in foggy lake'], '19212715_20476497a3': ['kayaker kayaks through the water', 'person kayaking in the ocean', 'person kayaks in the middle of the ocean on grey day', 'person rows boat over large body of water', 'person in boat with paddle in hand'], '23445819_3a458716c1': ['beagle and golden retriever wrestling in the grass', 'two dogs are wrestling in the grass', 'two puppies are playing in the green grass', 'two puppies playing around in the grass', 'two puppies play in the grass'], '27782020_4dab210360': ['brightly decorated bicycle with cart with people walking around in the background', 'street vending machine is parked while people walk by', 'street vendor on the corner of busy intersection', 'people on the city street walk past puppet theater', 'people walk around mobile puppet theater in big city'], '33108590_d685bfe51c': ['young couple inspect merchandise from street vendor', 'people are gathering around table of food and outside taxi wisks by', 'three people prepare table full of food with police car in the background', 'two people look at street vendor', 'two women and man at food counter in dim lights'], '35506150_cbdb630f4f': ['man in red jacket is sitting on bench whilst cooking meal', 'man is sitting on bench cooking some food', 'man sits on bench', 'man wearing red jacket is sitting on wooden bench and is cooking something in small pot', 'man wearing red jacket sitting on bench next to various camping items']}\n"
          ],
          "name": "stdout"
        }
      ]
    },
    {
      "cell_type": "code",
      "metadata": {
        "id": "fccc3_foWEpF",
        "colab": {
          "base_uri": "https://localhost:8080/"
        },
        "outputId": "f3d73bb7-d007-4ddf-8b83-444099bb2959"
      },
      "source": [
        "# convert the loaded descriptions into a vocabulary of words\n",
        "def to_vocabulary(descriptions):\n",
        "  # build a list of all description strings\n",
        "  all_desc = set()\n",
        "  for key in descriptions.keys():\n",
        "    [all_desc.update(d.split()) for d in descriptions[key]]\n",
        "  return all_desc\n",
        " \n",
        "# summarize vocabulary\n",
        "vocabulary = to_vocabulary(descriptions)\n",
        "print(vocabulary)\n",
        "print('Vocabulary Size: %d' % len(vocabulary))"
      ],
      "execution_count": 16,
      "outputs": [
        {
          "output_type": "stream",
          "text": [
            "{'surrounding', 'playing', 'wearing', 'sit', 'cart', 'puppet', 'wisks', 'hand', 'merchandise', 'children', 'decorated', 'to', 'inspect', 'stand', 'day', 'wooden', 'rows', 'walking', 'kayaker', 'edge', 'jacket', 'tiled', 'intersection', 'person', 'boat', 'meal', 'out', 'golden', 'mobile', 'food', 'items', 'vendor', 'hold', 'her', 'around', 'the', 'fishing', 'brightly', 'bicycle', 'red', 'under', 'walk', 'stare', 'past', 'man', 'watch', 'clear', 'near', 'dim', 'by', 'stands', 'next', 'police', 'tree', 'couple', 'through', 'machine', 'fall', 'barrel', 'corner', 'lying', 'three', 'are', 'behind', 'morning', 'busy', 'and', 'large', 'floor', 'play', 'city', 'bikini', 'at', 'grass', 'sweatshirt', 'paddle', 'fish', 'together', 'bank', 'several', 'on', 'people', 'blue', 'girl', 'shallow', 'small', 'pool', 'front', 'lake', 'theater', 'women', 'over', 'lead', 'pot', 'into', 'car', 'while', 'kayaks', 'camping', 'big', 'multicolored', 'wrestling', 'look', 'looking', 'foggy', 'sitting', 'staring', 'dogs', 'fisherman', 'each', 'horse', 'stretched', 'back', 'pond', 'retriever', 'taxi', 'black', 'something', 'some', 'prepare', 'kayaking', 'laying', 'street', 'sand', 'middle', 'grey', 'outside', 'swimsuit', 'contained', 'beagle', 'water', 'bushes', 'counter', 'parked', 'standing', 'two', 'river', 'body', 'with', 'fishes', 'lights', 'blonde', 'table', 'full', 'moving', 'various', 'close', 'background', 'of', 'from', 'whilst', 'goldfish', 'orange', 'cooking', 'vending', 'bench', 'is', 'watching', 'other', 'in', 'mist', 'gathering', 'sits', 'holding', 'green', 'fire', 'horses', 'puppies', 'young', 'little', 'ocean', 'there'}\n",
            "Vocabulary Size: 172\n"
          ],
          "name": "stdout"
        }
      ]
    },
    {
      "cell_type": "code",
      "metadata": {
        "id": "-YnZFDXnXTYD"
      },
      "source": [
        "# save descriptions to file, one per line\n",
        "def save_descriptions(descriptions, filename):\n",
        "  lines = list()\n",
        "  for key, desc_list in descriptions.items():\n",
        "    for desc in desc_list:\n",
        "      lines.append(key + ' ' + desc)\n",
        "  data = '\\n'.join(lines)\n",
        "  file = open(filename, 'w')\n",
        "  file.write(data)\n",
        "  file.close()\n",
        "\n",
        "# save descriptions\n",
        "save_descriptions(descriptions, 'drive/My Drive/IC/descriptions.txt')"
      ],
      "execution_count": 17,
      "outputs": []
    },
    {
      "cell_type": "code",
      "metadata": {
        "id": "p1Y7fJl5XRfl",
        "colab": {
          "base_uri": "https://localhost:8080/"
        },
        "outputId": "878fd340-d360-4041-9206-0260dc61e38c"
      },
      "source": [
        "from pickle import load\n",
        "\n",
        "# load doc into memory\n",
        "def load_doc(filename):\n",
        "  # open the file as read only\n",
        "  file = open(filename, 'r')\n",
        "  # read all text\n",
        "  text = file.read()\n",
        "  # close the file\n",
        "  file.close()\n",
        "  return text\n",
        "\n",
        "# load a pre-defined list of photo identifiers\n",
        "def load_set(filename):\n",
        "  doc = load_doc(filename)\n",
        "  dataset = list()\n",
        "  # process line by line\n",
        "  for line in doc.split('\\n'):\n",
        "    # skip empty lines\n",
        "    if len(line) < 1:\n",
        "      continue\n",
        "    # get the image identifier\n",
        "    identifier = line.split('.')[0]\n",
        "    dataset.append(identifier)\n",
        "  return set(dataset)\n",
        "\n",
        "# load clean descriptions into memory\n",
        "def load_clean_descriptions(filename, dataset):\n",
        "  # load document\n",
        "  doc = load_doc(filename)\n",
        "  descriptions = dict()\n",
        "  for line in doc.split('\\n'):\n",
        "    # split line by white space\n",
        "    tokens = line.split()\n",
        "    # split id from description\n",
        "    image_id, image_desc = tokens[0], tokens[1:]\n",
        "    # skip images not in the set\n",
        "    if image_id in dataset:\n",
        "      # create list\n",
        "      if image_id not in descriptions:\n",
        "        descriptions[image_id] = list()\n",
        "      # wrap description in tokens\n",
        "      desc = 'startseq ' + ' '.join(image_desc) + ' endseq'\n",
        "      # store\n",
        "      descriptions[image_id].append(desc)\n",
        "  return descriptions\n",
        "\n",
        "# load photo features (loading from pickle data)\n",
        "def load_photo_features(filename, dataset):\n",
        "  # load all features\n",
        "  all_features = load(open(filename, 'rb'))\n",
        "  # filter features\n",
        "  features = {k: all_features[k] for k in dataset}\n",
        "  return features\n",
        "\n",
        "# load training dataset\n",
        "filename = '/content/drive/My Drive/IC/Flickr8k_trainImages_Small.txt'\n",
        "train = load_set(filename) # Training images name in \"set\" (dataset)\n",
        "print('Dataset: %d' % len(train))\n",
        "# descriptions\n",
        "train_descriptions = load_clean_descriptions('/content/drive/My Drive/IC/descriptions.txt', train)\n",
        "print('Descriptions: train=%d' % len(train_descriptions))\n",
        "# photo features\n",
        "train_features = load_photo_features('drive/My Drive/IC/features.pkl', train)\n",
        "print('Photos: %d' % len(train_features))"
      ],
      "execution_count": 18,
      "outputs": [
        {
          "output_type": "stream",
          "text": [
            "Dataset: 10\n",
            "Descriptions: train=10\n",
            "Photos: 10\n"
          ],
          "name": "stdout"
        }
      ]
    },
    {
      "cell_type": "code",
      "metadata": {
        "id": "gD8IS887mdAQ",
        "colab": {
          "base_uri": "https://localhost:8080/"
        },
        "outputId": "97837319-c479-4f71-9709-e16382e4f8c0"
      },
      "source": [
        "from tensorflow.keras.preprocessing.text import Tokenizer\n",
        "\n",
        "# convert a dictionary of clean descriptions to a list of descriptions\n",
        "def to_lines(descriptions):\n",
        "  all_desc = list()\n",
        "  for key in descriptions.keys():\n",
        "    [all_desc.append(d) for d in descriptions[key]]\n",
        "  return all_desc\n",
        "\n",
        "# fit a tokenizer given caption descriptions\n",
        "def create_tokenizer(descriptions):\n",
        "  lines = to_lines(descriptions)\n",
        "  tokenizer = Tokenizer()\n",
        "  tokenizer.fit_on_texts(lines)\n",
        "  return tokenizer\n",
        "\n",
        "# prepare tokenizer\n",
        "tokenizer = create_tokenizer(train_descriptions)\n",
        "print(tokenizer.word_index)\n",
        "vocab_size = len(tokenizer.word_index) + 1\n",
        "print('Vocabulary Size: %d' % vocab_size)"
      ],
      "execution_count": 19,
      "outputs": [
        {
          "output_type": "stream",
          "text": [
            "{'startseq': 1, 'endseq': 2, 'in': 3, 'the': 4, 'people': 5, 'and': 6, 'on': 7, 'two': 8, 'water': 9, 'man': 10, 'is': 11, 'of': 12, 'girl': 13, 'are': 14, 'at': 15, 'by': 16, 'grass': 17, 'red': 18, 'her': 19, 'fire': 20, 'with': 21, 'street': 22, 'bench': 23, 'wearing': 24, 'stand': 25, 'near': 26, 'fish': 27, 'person': 28, 'around': 29, 'food': 30, 'sitting': 31, 'back': 32, 'shallow': 33, 'ocean': 34, 'pond': 35, 'horse': 36, 'children': 37, 'fishes': 38, 'tree': 39, 'large': 40, 'puppies': 41, 'walk': 42, 'vendor': 43, 'jacket': 44, 'cooking': 45, 'bikini': 46, 'laying': 47, 'young': 48, 'lying': 49, 'while': 50, 'pool': 51, 'blue': 52, 'couple': 53, 'edge': 54, 'body': 55, 'blonde': 56, 'horses': 57, 'watching': 58, 'several': 59, 'some': 60, 'foggy': 61, 'fishing': 62, 'kayaks': 63, 'boat': 64, 'wrestling': 65, 'playing': 66, 'background': 67, 'city': 68, 'puppet': 69, 'theater': 70, 'table': 71, 'multicolored': 72, 'little': 73, 'swimsuit': 74, 'sand': 75, 'surrounding': 76, 'clear': 77, 'stands': 78, 'close': 79, 'front': 80, 'bushes': 81, 'fall': 82, 'hold': 83, 'each': 84, 'other': 85, 'together': 86, 'black': 87, 'sweatshirt': 88, 'staring': 89, 'barrel': 90, 'holding': 91, 'lead': 92, 'behind': 93, 'contained': 94, 'sit': 95, 'watch': 96, 'moving': 97, 'stare': 98, 'orange': 99, 'standing': 100, 'there': 101, 'looking': 102, 'into': 103, 'tiled': 104, 'floor': 105, 'goldfish': 106, 'fisherman': 107, 'bank': 108, 'river': 109, 'morning': 110, 'mist': 111, 'under': 112, 'lake': 113, 'kayaker': 114, 'through': 115, 'kayaking': 116, 'middle': 117, 'grey': 118, 'day': 119, 'rows': 120, 'over': 121, 'paddle': 122, 'hand': 123, 'beagle': 124, 'golden': 125, 'retriever': 126, 'dogs': 127, 'green': 128, 'play': 129, 'brightly': 130, 'decorated': 131, 'bicycle': 132, 'cart': 133, 'walking': 134, 'vending': 135, 'machine': 136, 'parked': 137, 'corner': 138, 'busy': 139, 'intersection': 140, 'past': 141, 'mobile': 142, 'big': 143, 'inspect': 144, 'merchandise': 145, 'from': 146, 'gathering': 147, 'outside': 148, 'taxi': 149, 'wisks': 150, 'three': 151, 'prepare': 152, 'full': 153, 'police': 154, 'car': 155, 'look': 156, 'women': 157, 'counter': 158, 'dim': 159, 'lights': 160, 'whilst': 161, 'meal': 162, 'sits': 163, 'wooden': 164, 'something': 165, 'small': 166, 'pot': 167, 'next': 168, 'to': 169, 'various': 170, 'camping': 171, 'items': 172}\n",
            "Vocabulary Size: 173\n"
          ],
          "name": "stdout"
        }
      ]
    },
    {
      "cell_type": "code",
      "metadata": {
        "id": "Z1CwKIggpbEC",
        "colab": {
          "base_uri": "https://localhost:8080/"
        },
        "outputId": "08faff7a-7b4b-4d61-d9b1-4b1b030ae536"
      },
      "source": [
        "from numpy import array\n",
        "from pickle import load\n",
        "from tensorflow.keras.preprocessing.text import Tokenizer\n",
        "from tensorflow.keras.preprocessing.sequence import pad_sequences\n",
        "from tensorflow.keras.utils import to_categorical\n",
        "from tensorflow.keras.utils import plot_model\n",
        "from tensorflow.keras.models import Model\n",
        "from tensorflow.keras.layers import Input\n",
        "from tensorflow.keras.layers import Dense\n",
        "from tensorflow.keras.layers import LSTM\n",
        "from tensorflow.keras.layers import Embedding\n",
        "from tensorflow.keras.layers import Dropout\n",
        "from tensorflow.keras.layers import add\n",
        "from tensorflow.keras.callbacks import ModelCheckpoint\n",
        "\n",
        "# create sequences of images, input sequences and output words for an image\n",
        "def create_sequences(tokenizer, max_length, descriptions, photos, vocab_size):\n",
        "  X1, X2, y = list(), list(), list()\n",
        "  # walk through each image identifier\n",
        "  for key, desc_list in descriptions.items():\n",
        "    # walk through each description for the image\n",
        "    for desc in desc_list:\n",
        "      # encode the sequence\n",
        "      seq = tokenizer.texts_to_sequences([desc])[0]\n",
        "      # split one sequence into multiple X,y pairs\n",
        "      for i in range(1, len(seq)):\n",
        "        # split into input and output pair\n",
        "        in_seq, out_seq = seq[:i], seq[i]\n",
        "        # pad input sequence\n",
        "        in_seq = pad_sequences([in_seq], maxlen=max_length)[0]\n",
        "        # encode output sequence\n",
        "        out_seq = to_categorical([out_seq], num_classes=vocab_size)[0]\n",
        "        # store\n",
        "        X1.append(photos[key][0])\n",
        "        X2.append(in_seq)\n",
        "        y.append(out_seq)\n",
        "  return array(X1), array(X2), array(y)\n",
        "\n",
        "# calculate the length of the description with the most words\n",
        "def max_length(descriptions):\n",
        "\tlines = to_lines(descriptions)\n",
        "\treturn max(len(d.split()) for d in lines)\n",
        "\n",
        "max_length = max_length(train_descriptions)\n",
        "print(\"Maximum length of caption in dataset : \", max_length)"
      ],
      "execution_count": 20,
      "outputs": [
        {
          "output_type": "stream",
          "text": [
            "Maximum length of caption in dataset :  18\n"
          ],
          "name": "stdout"
        }
      ]
    },
    {
      "cell_type": "code",
      "metadata": {
        "id": "1FoU4qByp7p3"
      },
      "source": [
        "# define the captioning model\n",
        "def define_model(vocab_size, max_length):\n",
        "  # feature extractor model\n",
        "  inputs1 = Input(shape=(4096,))\n",
        "  fe1 = Dropout(0.5)(inputs1)\n",
        "  fe2 = Dense(256, activation='relu')(fe1)\n",
        "  # sequence model\n",
        "  inputs2 = Input(shape=(max_length,))\n",
        "  se1 = Embedding(vocab_size, 256, mask_zero=True)(inputs2)\n",
        "  se2 = Dropout(0.5)(se1)\n",
        "  se3 = LSTM(256)(se2)\n",
        "  # decoder model\n",
        "  decoder1 = add([fe2, se3])\n",
        "  decoder2 = Dense(256, activation='relu')(decoder1)\n",
        "  outputs = Dense(vocab_size, activation='softmax')(decoder2)\n",
        "  # tie it together [image, seq] [word]\n",
        "  model = Model(inputs=[inputs1, inputs2], outputs=outputs)\n",
        "  model.compile(loss='categorical_crossentropy', optimizer='adam')\n",
        "  # summarize model\n",
        "  print(model.summary())\n",
        "  return model\n"
      ],
      "execution_count": 21,
      "outputs": []
    },
    {
      "cell_type": "code",
      "metadata": {
        "id": "ZyrnsMJBzVlg",
        "colab": {
          "base_uri": "https://localhost:8080/"
        },
        "outputId": "97010ebe-f73b-4677-8b4e-7519d83154e9"
      },
      "source": [
        "X1train, X2train, ytrain = create_sequences(tokenizer, max_length, train_descriptions, train_features, vocab_size)\n",
        "print(\"X1 Shape : {0}\".format(X1train.shape))\n",
        "print(\"X2 Shape : {0}\".format(X2train.shape))\n",
        "print(\"y Shape : {0}\".format(ytrain.shape))\n",
        "\n",
        "# define checkpoint callback\n",
        "#filepath = 'Image_captioning_model-ep{epoch:03d}-loss{loss:.3f}-val_loss{val_loss:.3f}.h5'\n",
        "#checkpoint = ModelCheckpoint(filepath, monitor='val_loss', verbose=1, save_best_only=True, mode='min')\n",
        "\n",
        "model = define_model(vocab_size, max_length)\n",
        "model.fit([X1train, X2train], ytrain, epochs=50, verbose=2)\n",
        "\n"
      ],
      "execution_count": 22,
      "outputs": [
        {
          "output_type": "stream",
          "text": [
            "X1 Shape : (489, 4096)\n",
            "X2 Shape : (489, 18)\n",
            "y Shape : (489, 173)\n",
            "Model: \"model_1\"\n",
            "__________________________________________________________________________________________________\n",
            "Layer (type)                    Output Shape         Param #     Connected to                     \n",
            "==================================================================================================\n",
            "input_3 (InputLayer)            [(None, 18)]         0                                            \n",
            "__________________________________________________________________________________________________\n",
            "input_2 (InputLayer)            [(None, 4096)]       0                                            \n",
            "__________________________________________________________________________________________________\n",
            "embedding (Embedding)           (None, 18, 256)      44288       input_3[0][0]                    \n",
            "__________________________________________________________________________________________________\n",
            "dropout (Dropout)               (None, 4096)         0           input_2[0][0]                    \n",
            "__________________________________________________________________________________________________\n",
            "dropout_1 (Dropout)             (None, 18, 256)      0           embedding[0][0]                  \n",
            "__________________________________________________________________________________________________\n",
            "dense (Dense)                   (None, 256)          1048832     dropout[0][0]                    \n",
            "__________________________________________________________________________________________________\n",
            "lstm (LSTM)                     (None, 256)          525312      dropout_1[0][0]                  \n",
            "__________________________________________________________________________________________________\n",
            "add (Add)                       (None, 256)          0           dense[0][0]                      \n",
            "                                                                 lstm[0][0]                       \n",
            "__________________________________________________________________________________________________\n",
            "dense_1 (Dense)                 (None, 256)          65792       add[0][0]                        \n",
            "__________________________________________________________________________________________________\n",
            "dense_2 (Dense)                 (None, 173)          44461       dense_1[0][0]                    \n",
            "==================================================================================================\n",
            "Total params: 1,728,685\n",
            "Trainable params: 1,728,685\n",
            "Non-trainable params: 0\n",
            "__________________________________________________________________________________________________\n",
            "None\n",
            "Epoch 1/50\n",
            "16/16 - 4s - loss: 5.2052\n",
            "Epoch 2/50\n",
            "16/16 - 1s - loss: 4.3177\n",
            "Epoch 3/50\n",
            "16/16 - 1s - loss: 3.9249\n",
            "Epoch 4/50\n",
            "16/16 - 1s - loss: 3.6619\n",
            "Epoch 5/50\n",
            "16/16 - 1s - loss: 3.4792\n",
            "Epoch 6/50\n",
            "16/16 - 1s - loss: 3.3306\n",
            "Epoch 7/50\n",
            "16/16 - 1s - loss: 3.2467\n",
            "Epoch 8/50\n",
            "16/16 - 1s - loss: 3.1095\n",
            "Epoch 9/50\n",
            "16/16 - 1s - loss: 3.0029\n",
            "Epoch 10/50\n",
            "16/16 - 1s - loss: 3.0047\n",
            "Epoch 11/50\n",
            "16/16 - 1s - loss: 2.9148\n",
            "Epoch 12/50\n",
            "16/16 - 1s - loss: 2.8067\n",
            "Epoch 13/50\n",
            "16/16 - 1s - loss: 2.7403\n",
            "Epoch 14/50\n",
            "16/16 - 1s - loss: 2.6542\n",
            "Epoch 15/50\n",
            "16/16 - 1s - loss: 2.5422\n",
            "Epoch 16/50\n",
            "16/16 - 1s - loss: 2.5009\n",
            "Epoch 17/50\n",
            "16/16 - 1s - loss: 2.4078\n",
            "Epoch 18/50\n",
            "16/16 - 1s - loss: 2.3115\n",
            "Epoch 19/50\n",
            "16/16 - 1s - loss: 2.2377\n",
            "Epoch 20/50\n",
            "16/16 - 1s - loss: 2.0998\n",
            "Epoch 21/50\n",
            "16/16 - 1s - loss: 2.0260\n",
            "Epoch 22/50\n",
            "16/16 - 1s - loss: 1.9432\n",
            "Epoch 23/50\n",
            "16/16 - 1s - loss: 1.8886\n",
            "Epoch 24/50\n",
            "16/16 - 1s - loss: 1.7483\n",
            "Epoch 25/50\n",
            "16/16 - 1s - loss: 1.7023\n",
            "Epoch 26/50\n",
            "16/16 - 1s - loss: 1.5760\n",
            "Epoch 27/50\n",
            "16/16 - 1s - loss: 1.4842\n",
            "Epoch 28/50\n",
            "16/16 - 1s - loss: 1.3828\n",
            "Epoch 29/50\n",
            "16/16 - 1s - loss: 1.3029\n",
            "Epoch 30/50\n",
            "16/16 - 1s - loss: 1.2436\n",
            "Epoch 31/50\n",
            "16/16 - 1s - loss: 1.1444\n",
            "Epoch 32/50\n",
            "16/16 - 1s - loss: 1.1109\n",
            "Epoch 33/50\n",
            "16/16 - 1s - loss: 1.0235\n",
            "Epoch 34/50\n",
            "16/16 - 1s - loss: 0.9699\n",
            "Epoch 35/50\n",
            "16/16 - 1s - loss: 0.9416\n",
            "Epoch 36/50\n",
            "16/16 - 1s - loss: 0.8994\n",
            "Epoch 37/50\n",
            "16/16 - 1s - loss: 0.8285\n",
            "Epoch 38/50\n",
            "16/16 - 1s - loss: 0.7945\n",
            "Epoch 39/50\n",
            "16/16 - 1s - loss: 0.7112\n",
            "Epoch 40/50\n",
            "16/16 - 1s - loss: 0.6671\n",
            "Epoch 41/50\n",
            "16/16 - 1s - loss: 0.6318\n",
            "Epoch 42/50\n",
            "16/16 - 1s - loss: 0.5828\n",
            "Epoch 43/50\n",
            "16/16 - 1s - loss: 0.5277\n",
            "Epoch 44/50\n",
            "16/16 - 1s - loss: 0.5273\n",
            "Epoch 45/50\n",
            "16/16 - 1s - loss: 0.5187\n",
            "Epoch 46/50\n",
            "16/16 - 1s - loss: 0.4803\n",
            "Epoch 47/50\n",
            "16/16 - 1s - loss: 0.4463\n",
            "Epoch 48/50\n",
            "16/16 - 1s - loss: 0.4347\n",
            "Epoch 49/50\n",
            "16/16 - 1s - loss: 0.4130\n",
            "Epoch 50/50\n",
            "16/16 - 1s - loss: 0.4206\n"
          ],
          "name": "stdout"
        },
        {
          "output_type": "execute_result",
          "data": {
            "text/plain": [
              "<tensorflow.python.keras.callbacks.History at 0x7ff8481d0950>"
            ]
          },
          "metadata": {
            "tags": []
          },
          "execution_count": 22
        }
      ]
    },
    {
      "cell_type": "code",
      "metadata": {
        "id": "5FodORu-s2gy"
      },
      "source": [
        ""
      ],
      "execution_count": 22,
      "outputs": []
    },
    {
      "cell_type": "code",
      "metadata": {
        "id": "0a-CkW-w6zXY",
        "colab": {
          "base_uri": "https://localhost:8080/"
        },
        "outputId": "a315bf68-2055-4878-d4c5-c2f9656e92e0"
      },
      "source": [
        "# extract features from each photo in the directory\n",
        "def extract_features(filename):\n",
        "  # load the model\n",
        "  model = VGG16()\n",
        "  # re-structure the model\n",
        "  model.layers.pop()\n",
        "  model = Model(inputs=model.inputs, outputs=model.layers[-2].output)\n",
        "  # load the photo\n",
        "  image = load_img(filename, target_size=(224, 224))\n",
        "  # convert the image pixels to a numpy array\n",
        "  image = img_to_array(image)\n",
        "  # reshape data for the model\n",
        "  image = image.reshape((1, image.shape[0], image.shape[1], image.shape[2]))\n",
        "  # prepare the image for the VGG model\n",
        "  image = preprocess_input(image)\n",
        "  # get features\n",
        "  feature = model.predict(image, verbose=0)\n",
        "  return feature\n",
        "\n",
        "\n",
        "# map an integer to a word\n",
        "def word_for_id(integer, tokenizer):\n",
        "\tfor word, index in tokenizer.word_index.items():\n",
        "\t\tif index == integer:\n",
        "\t\t\treturn word\n",
        "\treturn None\n",
        "\n",
        "\n",
        "# generate a description for an image\n",
        "def generate_desc(model, tokenizer, photo, max_length):\n",
        "\t# seed the generation process\n",
        "\tin_text = 'startseq'\n",
        "\t# iterate over the whole length of the sequence\n",
        "\tfor i in range(max_length):\n",
        "\t\t# integer encode input sequence\n",
        "\t\tsequence = tokenizer.texts_to_sequences([in_text])[0]\n",
        "\t\t# pad input\n",
        "\t\tsequence = pad_sequences([sequence], maxlen=max_length)\n",
        "\t\t# predict next word\n",
        "\t\tyhat = model.predict([photo,sequence], verbose=0)\n",
        "\t\t# convert probability to integer\n",
        "\t\tyhat = argmax(yhat)\n",
        "\t\t# map integer to word\n",
        "\t\tword = word_for_id(yhat, tokenizer)\n",
        "\t\t# stop if we cannot map the word\n",
        "\t\tif word is None:\n",
        "\t\t\tbreak\n",
        "\t\t# append as input for generating the next word\n",
        "\t\tin_text += ' ' + word\n",
        "\t\t# stop if we predict the end of the sequence\n",
        "\t\tif word == 'endseq':\n",
        "\t\t\tbreak\n",
        "\treturn in_text\n",
        "\n",
        "\n",
        "# load and prepare the photograph\n",
        "photo = extract_features(\"drive/My Drive/IC/testing.jpg\")\n",
        "\n",
        "# generate description\n",
        "description = generate_desc(model, tokenizer, photo, max_length)\n",
        "print(description)"
      ],
      "execution_count": 23,
      "outputs": [
        {
          "output_type": "stream",
          "text": [
            "startseq people and her around on the water endseq\n"
          ],
          "name": "stdout"
        }
      ]
    },
    {
      "cell_type": "code",
      "metadata": {
        "colab": {
          "base_uri": "https://localhost:8080/"
        },
        "id": "8E5POnbJ4iwm",
        "outputId": "ae875992-49d7-4719-bf28-d3a910f4953e"
      },
      "source": [
        "!pip install gTTS"
      ],
      "execution_count": 24,
      "outputs": [
        {
          "output_type": "stream",
          "text": [
            "Requirement already satisfied: gTTS in /usr/local/lib/python3.7/dist-packages (2.2.2)\n",
            "Requirement already satisfied: click in /usr/local/lib/python3.7/dist-packages (from gTTS) (7.1.2)\n",
            "Requirement already satisfied: six in /usr/local/lib/python3.7/dist-packages (from gTTS) (1.15.0)\n",
            "Requirement already satisfied: requests in /usr/local/lib/python3.7/dist-packages (from gTTS) (2.23.0)\n",
            "Requirement already satisfied: certifi>=2017.4.17 in /usr/local/lib/python3.7/dist-packages (from requests->gTTS) (2020.12.5)\n",
            "Requirement already satisfied: chardet<4,>=3.0.2 in /usr/local/lib/python3.7/dist-packages (from requests->gTTS) (3.0.4)\n",
            "Requirement already satisfied: urllib3!=1.25.0,!=1.25.1,<1.26,>=1.21.1 in /usr/local/lib/python3.7/dist-packages (from requests->gTTS) (1.24.3)\n",
            "Requirement already satisfied: idna<3,>=2.5 in /usr/local/lib/python3.7/dist-packages (from requests->gTTS) (2.10)\n"
          ],
          "name": "stdout"
        }
      ]
    },
    {
      "cell_type": "code",
      "metadata": {
        "id": "LPcf2yAzDvjF",
        "colab": {
          "base_uri": "https://localhost:8080/",
          "height": 75
        },
        "outputId": "c540761d-c0c1-47a5-91ed-cd76384e9fd9"
      },
      "source": [
        "import os\r\n",
        "from gtts import gTTS\r\n",
        "from IPython  import display\r\n",
        "t1 = gTTS(description) \r\n",
        "t1.save('welcome.mp3') \r\n",
        "display.Image('drive/My Drive/IC/testing.jpg')\r\n",
        "display.Audio('welcome.mp3')"
      ],
      "execution_count": 25,
      "outputs": [
        {
          "output_type": "execute_result",
          "data": {
            "text/html": [
              "\n",
              "                <audio controls=\"controls\" >\n",
              "                    <source src=\"data:audio/mpeg;base64,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\" type=\"audio/mpeg\" />\n",
              "                    Your browser does not support the audio element.\n",
              "                </audio>\n",
              "              "
            ],
            "text/plain": [
              "<IPython.lib.display.Audio object>"
            ]
          },
          "metadata": {
            "tags": []
          },
          "execution_count": 25
        }
      ]
    }
  ]
}